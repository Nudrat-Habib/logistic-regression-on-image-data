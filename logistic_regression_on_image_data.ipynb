{
  "cells": [
    {
      "cell_type": "markdown",
      "metadata": {
        "id": "view-in-github",
        "colab_type": "text"
      },
      "source": [
        "<a href=\"https://colab.research.google.com/github/Nudrat-Habib/logistic-regression-on-image-data/blob/main/logistic_regression_on_image_data.ipynb\" target=\"_parent\"><img src=\"https://colab.research.google.com/assets/colab-badge.svg\" alt=\"Open In Colab\"/></a>"
      ]
    },
    {
      "cell_type": "markdown",
      "source": [
        "##working with images using Pytorch"
      ],
      "metadata": {
        "id": "uYszqP6yylSm"
      }
    },
    {
      "cell_type": "markdown",
      "source": [
        "This notebook is about logistic regression on image data using pytorch.\n",
        "\n",
        "PyTorch is an open-source machine learning library developed by Facebook's AI Research lab (FAIR). It is primarily used for deep learning and is designed to provide both flexibility and ease of use for researchers and developers working on machine learning projects.\n",
        "\n",
        "PyTorch is widely used for working with image data in the field of computer vision and has become a popular choice for researchers and practitioners."
      ],
      "metadata": {
        "id": "rx83VkduyvSH"
      }
    },
    {
      "cell_type": "markdown",
      "source": [
        "First we will import important libraries and download dataset"
      ],
      "metadata": {
        "id": "NxZxvfCePuf8"
      }
    },
    {
      "cell_type": "code",
      "execution_count": null,
      "metadata": {
        "id": "YW6isgizNoFE"
      },
      "outputs": [],
      "source": [
        "import torch\n",
        "import torch.nn.functional as F\n",
        "import torchvision\n",
        "from torchvision.datasets import MNIST\n",
        "dataset=MNIST(root='data/',download=True)\n"
      ]
    },
    {
      "cell_type": "code",
      "source": [
        "len(dataset) #checking the lenght of dataset"
      ],
      "metadata": {
        "colab": {
          "base_uri": "https://localhost:8080/"
        },
        "id": "6ZpYGLdbQ0AI",
        "outputId": "204f9216-d252-4cb6-e216-a8445dea5c7c"
      },
      "execution_count": null,
      "outputs": [
        {
          "output_type": "execute_result",
          "data": {
            "text/plain": [
              "60000"
            ]
          },
          "metadata": {},
          "execution_count": 42
        }
      ]
    },
    {
      "cell_type": "markdown",
      "source": [
        "The dataset has 60,000 images that we'll use to train the model. There is also an additional test set of 10,000 images used for evaluating models and reporting metrics in papers and reports. We can create the test dataset using the MNIST class by passing train=False to the constructor."
      ],
      "metadata": {
        "id": "lTcFbNUxSzv9"
      }
    },
    {
      "cell_type": "code",
      "execution_count": null,
      "metadata": {
        "colab": {
          "base_uri": "https://localhost:8080/"
        },
        "id": "RZ_N2bjXNxDC",
        "outputId": "5fcc8f19-cd44-4294-ffc9-02b278fb0815"
      },
      "outputs": [
        {
          "output_type": "execute_result",
          "data": {
            "text/plain": [
              "10000"
            ]
          },
          "metadata": {},
          "execution_count": 43
        }
      ],
      "source": [
        "\n",
        "test_data=MNIST(root='data/',train=False)\n",
        "len(test_data)"
      ]
    },
    {
      "cell_type": "markdown",
      "source": [
        "Let's just plot few images and see samples from dataset"
      ],
      "metadata": {
        "id": "fS92V4OPRBQR"
      }
    },
    {
      "cell_type": "code",
      "execution_count": null,
      "metadata": {
        "colab": {
          "base_uri": "https://localhost:8080/",
          "height": 447
        },
        "id": "mOQhTtAcPyYZ",
        "outputId": "f94dfa12-d9c3-4c5b-d94a-0f48a22bd2d8"
      },
      "outputs": [
        {
          "output_type": "stream",
          "name": "stdout",
          "text": [
            "5\n"
          ]
        },
        {
          "output_type": "display_data",
          "data": {
            "text/plain": [
              "<Figure size 640x480 with 1 Axes>"
            ],
            "image/png": "[encoded data removed]"
          },
          "metadata": {}
        }
      ],
      "source": [
        "#(matplotlib inline) tells notebook that we want to draw image within the notebook.\n",
        "import matplotlib.pyplot as plt\n",
        "%matplotlib inline\n",
        "image,label=dataset[0] #will retrice image as well as it's label\n",
        "plt.imshow(image,cmap='gray') #to convert it to grayscale\n",
        "print(label)"
      ]
    },
    {
      "cell_type": "code",
      "source": [
        "import matplotlib.pyplot as plt\n",
        "%matplotlib inline\n",
        "image,label=dataset[89]\n",
        "plt.imshow(image,cmap='gray')\n",
        "print(label)"
      ],
      "metadata": {
        "colab": {
          "base_uri": "https://localhost:8080/",
          "height": 447
        },
        "id": "XazDHfwBRZv2",
        "outputId": "7707c41a-5e3b-4bab-c3b8-9e975d66a700"
      },
      "execution_count": null,
      "outputs": [
        {
          "output_type": "stream",
          "name": "stdout",
          "text": [
            "4\n"
          ]
        },
        {
          "output_type": "display_data",
          "data": {
            "text/plain": [
              "<Figure size 640x480 with 1 Axes>"
            ],
            "image/png": "[encoded data removed]"
          },
          "metadata": {}
        }
      ]
    },
    {
      "cell_type": "markdown",
      "source": [
        "PyTorch doesn't know how to work with images. We need to convert the images into tensors. We can do this by specifying a transform while creating our dataset.\n",
        "let's transform the image dataset into tensors and then view few values or portion of an image as well as its tensor information."
      ],
      "metadata": {
        "id": "RJNqmxCgTA_f"
      }
    },
    {
      "cell_type": "code",
      "execution_count": null,
      "metadata": {
        "colab": {
          "base_uri": "https://localhost:8080/"
        },
        "id": "sZssb0poQjQ6",
        "outputId": "f2b12fa8-f11a-4fec-9206-df7b349a3bcf"
      },
      "outputs": [
        {
          "output_type": "stream",
          "name": "stdout",
          "text": [
            "torch.Size([1, 28, 28]) 5\n"
          ]
        }
      ],
      "source": [
        "import torchvision.transforms as transforms\n",
        "dataset=MNIST(root='data/',transform=transforms.ToTensor())\n",
        "img_tensor,label=dataset[100]\n",
        "print(img_tensor.shape,label) #output 1,28,28 where 1 is color chanel and 28*28 is size of image."
      ]
    },
    {
      "cell_type": "code",
      "execution_count": null,
      "metadata": {
        "colab": {
          "base_uri": "https://localhost:8080/",
          "height": 534
        },
        "id": "ykblkLeVQo7n",
        "outputId": "3dab6702-1204-4557-c2b5-dbe1b48bfd75"
      },
      "outputs": [
        {
          "output_type": "stream",
          "name": "stdout",
          "text": [
            "tensor([[0.8118, 0.9922, 0.9922, 0.9020, 0.0000],\n",
            "        [0.6157, 0.9922, 0.9922, 0.4902, 0.0000],\n",
            "        [0.3490, 0.9922, 0.9804, 0.2235, 0.0000],\n",
            "        [0.3490, 0.9922, 0.9686, 0.0000, 0.0000],\n",
            "        [0.3490, 0.9922, 0.9686, 0.0000, 0.0000]])\n"
          ]
        },
        {
          "output_type": "execute_result",
          "data": {
            "text/plain": [
              "<matplotlib.image.AxesImage at 0x7f5b9a604520>"
            ]
          },
          "metadata": {},
          "execution_count": 47
        },
        {
          "output_type": "display_data",
          "data": {
            "text/plain": [
              "<Figure size 640x480 with 1 Axes>"
            ],
            "image/png": "[encoded data removed]"
          },
          "metadata": {}
        }
      ],
      "source": [
        "#printing part of image first in tensor form and then image form\n",
        "print(img_tensor[0,10:15,10:15])\n",
        "plt.imshow(img_tensor[0,0:15,0:15],cmap='gray') #first argument 0 to omit first channel/dimension"
      ]
    },
    {
      "cell_type": "markdown",
      "source": [
        "Splitting data into training and evaluation sets is a fundamental practice in machine learning and data analysis for several important reasons including model evaluation ad avoiding overfitting.\n",
        "let's just split our dataset: out of 60000 images we assign 50000 to training and remaining 10000 to evaluation."
      ],
      "metadata": {
        "id": "wV9DV7vCTxJQ"
      }
    },
    {
      "cell_type": "code",
      "execution_count": null,
      "metadata": {
        "colab": {
          "base_uri": "https://localhost:8080/"
        },
        "id": "MLsHrzGWQvV-",
        "outputId": "4ad41d9c-32d3-4168-cc34-bbc543cdfc53"
      },
      "outputs": [
        {
          "output_type": "execute_result",
          "data": {
            "text/plain": [
              "(50000, 10000)"
            ]
          },
          "metadata": {},
          "execution_count": 48
        }
      ],
      "source": [
        "from torch.utils.data import random_split\n",
        "train_ds,eval_ds=random_split(dataset,[50000,10000])\n",
        "len(train_ds),len(eval_ds)"
      ]
    },
    {
      "cell_type": "markdown",
      "source": [
        "in real world datasets are very large. they are loaded in batches instead of whole dataset.\n",
        "\n",
        "We can now create data loaders to help us load the data in batches.\n",
        "you can use any batch_size you want.\n",
        "\n",
        "We'll use a batch size of 128."
      ],
      "metadata": {
        "id": "TYN2GRXxUJCZ"
      }
    },
    {
      "cell_type": "code",
      "execution_count": null,
      "metadata": {
        "id": "9nQwWrstQ6NX"
      },
      "outputs": [],
      "source": [
        "#dataloader helps in loading data in batches\n",
        "from torch.utils.data import DataLoader\n",
        "batch_size=128\n",
        "train_loader=DataLoader(train_ds,batch_size,shuffle=True)#shuffle=true is to make sure that batches generated in each epoch are different.\n",
        "val_loader=DataLoader(eval_ds,batch_size)"
      ]
    },
    {
      "cell_type": "markdown",
      "source": [
        "Since nn.Linear expects each training example to be a vector, each 1x28x28 image tensor is flattened into a vector of size 784 (28*28) before being passed into the model.\n",
        "\n",
        "\n",
        "The output for each image is a vector of size 10, with each element signifying the probability of a particular target label (i.e., 0 to 9). The predicted label for an image is simply the one with the highest probability."
      ],
      "metadata": {
        "id": "3OFtHUReUtSh"
      }
    },
    {
      "cell_type": "markdown",
      "source": [
        "\n",
        "In Python, a class is a blueprint or a template for creating objects (instances). It defines a set of attributes (variables) and methods (functions) that the objects of the class will have.\n",
        "\n",
        "Classes can also build upon or extend the functionality of existing classes. Let's extend the nn.Module class from PyTorch to define a custom model.\n",
        "\n",
        "__init__ Method:\n",
        "\n",
        "__init__ is a special method in Python classes, also known as the constructor.\n",
        "It is automatically called when an object of the class is created.\n",
        "It is used to initialize the attributes of the object."
      ],
      "metadata": {
        "id": "hClcZh_7WAdJ"
      }
    },
    {
      "cell_type": "code",
      "execution_count": null,
      "metadata": {
        "id": "ZW6fKgdEQ8MD"
      },
      "outputs": [],
      "source": [
        "import torch.nn as nn\n",
        "inputs=28*28\n",
        "num_classes=10\n",
        "class model(nn.Module):\n",
        "    def __init__(self):\n",
        "        super().__init__()\n",
        "        self.linear = nn.Linear(inputs, num_classes)\n",
        "\n",
        "    def forward(self, xb):\n",
        "        xb = xb.reshape(-1, 784) #-1 is used to leave for pytorch to calculate the number of rows aproprietly.\n",
        "        out = self.linear(xb)\n",
        "        return out\n",
        "\n",
        "    def training_step(self, batch):\n",
        "        images, labels = batch\n",
        "        out = self(images)                  # Generate predictions we are passing the images to the model.\n",
        "        loss = F.cross_entropy(out, labels) # Calculate loss using cross entropy\n",
        "        return loss\n",
        "\n",
        "    def accuracy(self,batch):  # this will calculate the accuracy of prediction\n",
        "      images,labels=batch\n",
        "      out= self(images)\n",
        "      acc=accuracy(out,labels) #out and label values are passed to accuracy function\n",
        "      return acc\n",
        "\n",
        "\n",
        "# Create an instance of your model\n",
        "\n",
        "model = model()\n"
      ]
    },
    {
      "cell_type": "markdown",
      "source": [
        "Some parts of the training loop are specific the specific problem we're solving (e.g. loss function, metrics etc.) whereas others are generic and can be applied to any deep learning problem.\n",
        "\n",
        "We'll include the problem-independent parts within a function called fit, which will be used to train the model. The problem-specific parts will be implemented by adding new methods to the nn.Module class."
      ],
      "metadata": {
        "id": "JHHYoYa0aQh6"
      }
    },
    {
      "cell_type": "code",
      "execution_count": null,
      "metadata": {
        "id": "-HcutbH8SEyV"
      },
      "outputs": [],
      "source": [
        "def fit(num_epochs,model,train_loader):\n",
        "  opt_func=torch.optim.SGD\n",
        "  optimizer = opt_func(model.parameters(), lr=1e-5)\n",
        "  for epoch in range(num_epochs):\n",
        "    for batch in train_loader:\n",
        "\n",
        "      #generate predictions and calculate loss\n",
        "\n",
        "      loss=model.training_step(batch)\n",
        "\n",
        "      #compute gradiant\n",
        "      loss.backward()\n",
        "\n",
        "      #update parameters using gradient\n",
        "      #opt= opt(model, lr=1e-5)\n",
        "      optimizer.step()\n",
        "\n",
        "      #reset gradiant\n",
        "      optimizer.zero_grad()\n",
        "      acc=model.accuracy(batch)\n",
        "\n",
        "\n",
        "  # Print the progress\n",
        "    if (epoch+1) % 10 == 0:\n",
        "      print('Epoch [{}/{}], Loss: {:.4f}'.format(epoch+1, num_epochs, loss.item()))\n",
        "      print('Accuracy',acc)"
      ]
    },
    {
      "cell_type": "markdown",
      "source": [
        "let's define the accuracy function here.\n",
        "accuracy is percentage of times the model made correct prediction. we will sum the number of times when prediction was equal to label. for this we will use == operator.\n",
        "\n",
        " it performs element-wise comparison, resulting in a new tensor of the same shape as the input tensors, where each element is True if the corresponding elements in the input tensors are equal and False otherwise."
      ],
      "metadata": {
        "id": "8wSPnWKvi-nq"
      }
    },
    {
      "cell_type": "code",
      "source": [
        "def accuracy(outputs, labels):\n",
        "    _, preds = torch.max(outputs, dim=1)\n",
        "    return torch.tensor(torch.sum(preds == labels).item() / len(preds))"
      ],
      "metadata": {
        "id": "4lH8OwBWcNpW"
      },
      "execution_count": null,
      "outputs": []
    },
    {
      "cell_type": "markdown",
      "source": [
        "now let's just train the model for let's say 50 epochs. During training  after every iteration the weights and biases are updated to make better predictions. so loss will decrease and accuracy will increase.\n",
        "\n"
      ],
      "metadata": {
        "id": "MUgbQQEWaWxN"
      }
    },
    {
      "cell_type": "code",
      "execution_count": null,
      "metadata": {
        "colab": {
          "base_uri": "https://localhost:8080/"
        },
        "id": "QNgN-C0zRInO",
        "outputId": "c75543b2-0c32-4c98-b1c3-e2d76246e8df"
      },
      "outputs": [
        {
          "output_type": "stream",
          "name": "stdout",
          "text": [
            "Epoch [10/50], Loss: 2.3358\n",
            "Accuracy tensor(0.0875)\n",
            "Epoch [20/50], Loss: 2.2560\n",
            "Accuracy tensor(0.1000)\n",
            "Epoch [30/50], Loss: 2.2167\n",
            "Accuracy tensor(0.1625)\n",
            "Epoch [40/50], Loss: 2.1811\n",
            "Accuracy tensor(0.3125)\n",
            "Epoch [50/50], Loss: 2.1324\n",
            "Accuracy tensor(0.3625)\n"
          ]
        }
      ],
      "source": [
        "fit(50,model,train_loader)"
      ]
    },
    {
      "cell_type": "markdown",
      "source": [
        "As you can see the loss has decresed after 50 iterations. you can train it for as many epchs untill loss is not decreassing.\n",
        "let's train it for few more epochs"
      ],
      "metadata": {
        "id": "0WNJOzflabW1"
      }
    },
    {
      "cell_type": "code",
      "execution_count": null,
      "metadata": {
        "colab": {
          "base_uri": "https://localhost:8080/"
        },
        "id": "vBFw_qM91k-v",
        "outputId": "d0ebb8d0-1c0a-4534-f3b0-1314ed100e74"
      },
      "outputs": [
        {
          "output_type": "stream",
          "name": "stdout",
          "text": [
            "Epoch [10/100], Loss: 2.1226\n",
            "Accuracy tensor(0.4250)\n",
            "Epoch [20/100], Loss: 2.0880\n",
            "Accuracy tensor(0.4250)\n",
            "Epoch [30/100], Loss: 2.0676\n",
            "Accuracy tensor(0.4250)\n",
            "Epoch [40/100], Loss: 1.9994\n",
            "Accuracy tensor(0.5250)\n",
            "Epoch [50/100], Loss: 2.0101\n",
            "Accuracy tensor(0.5375)\n",
            "Epoch [60/100], Loss: 1.9745\n",
            "Accuracy tensor(0.5875)\n",
            "Epoch [70/100], Loss: 1.9021\n",
            "Accuracy tensor(0.6750)\n",
            "Epoch [80/100], Loss: 1.9227\n",
            "Accuracy tensor(0.6125)\n",
            "Epoch [90/100], Loss: 1.8451\n",
            "Accuracy tensor(0.6750)\n",
            "Epoch [100/100], Loss: 1.8451\n",
            "Accuracy tensor(0.6375)\n"
          ]
        }
      ],
      "source": [
        "fit(100,model,train_loader)"
      ]
    },
    {
      "cell_type": "code",
      "source": [
        "fit(100,model,train_loader)"
      ],
      "metadata": {
        "id": "M2WJ_dQRENS-",
        "colab": {
          "base_uri": "https://localhost:8080/"
        },
        "outputId": "c478fd6d-4cad-4d89-c3fd-38890b2dc242"
      },
      "execution_count": null,
      "outputs": [
        {
          "output_type": "stream",
          "name": "stdout",
          "text": [
            "Epoch [10/100], Loss: 1.7646\n",
            "Accuracy tensor(0.7250)\n",
            "Epoch [20/100], Loss: 1.7716\n",
            "Accuracy tensor(0.6625)\n",
            "Epoch [30/100], Loss: 1.7988\n",
            "Accuracy tensor(0.6375)\n",
            "Epoch [40/100], Loss: 1.7788\n",
            "Accuracy tensor(0.6375)\n",
            "Epoch [50/100], Loss: 1.6919\n",
            "Accuracy tensor(0.7250)\n",
            "Epoch [60/100], Loss: 1.6839\n",
            "Accuracy tensor(0.6625)\n",
            "Epoch [70/100], Loss: 1.7210\n",
            "Accuracy tensor(0.6875)\n",
            "Epoch [80/100], Loss: 1.6226\n",
            "Accuracy tensor(0.7125)\n",
            "Epoch [90/100], Loss: 1.5229\n",
            "Accuracy tensor(0.7875)\n",
            "Epoch [100/100], Loss: 1.6349\n",
            "Accuracy tensor(0.7375)\n"
          ]
        }
      ]
    },
    {
      "cell_type": "markdown",
      "source": [
        "you can see after 250 epochs the loss has reduced from 2.1  to 1.6 and accuracy has been increased from 42 percent to 73 percent\n",
        "\n",
        "you can now train the model for more epochs to produce better results.\n",
        "\n",
        "\n",
        "let's just now test our model on test data."
      ],
      "metadata": {
        "id": "Rw-GB7vra5xj"
      }
    },
    {
      "cell_type": "code",
      "source": [
        "# Define test dataset\n",
        "test_dataset = MNIST(root='data/',\n",
        "                     train=False,\n",
        "                     transform=transforms.ToTensor())"
      ],
      "metadata": {
        "id": "h6NVeFllA6nn"
      },
      "execution_count": null,
      "outputs": []
    },
    {
      "cell_type": "code",
      "source": [
        "def predict_image(img, model):\n",
        "    xb = img.unsqueeze(0)\n",
        "    yb = model(xb)\n",
        "    _, preds = torch.max(yb, dim=1)\n",
        "    return preds[0].item()"
      ],
      "metadata": {
        "id": "H8gL5eng-mPo"
      },
      "execution_count": null,
      "outputs": []
    },
    {
      "cell_type": "code",
      "source": [
        "img, label = test_dataset[0]\n",
        "plt.imshow(img[0], cmap='gray')\n",
        "print('Label:', label, ', Predicted:', predict_image(img, model))"
      ],
      "metadata": {
        "id": "-yMp_xB5-3ka",
        "colab": {
          "base_uri": "https://localhost:8080/",
          "height": 447
        },
        "outputId": "d244b2da-881e-4247-f90c-37e8b1127ddb"
      },
      "execution_count": null,
      "outputs": [
        {
          "output_type": "stream",
          "name": "stdout",
          "text": [
            "Label: 7 , Predicted: 7\n"
          ]
        },
        {
          "output_type": "display_data",
          "data": {
            "text/plain": [
              "<Figure size 640x480 with 1 Axes>"
            ],
            "image/png": "[encoded data removed]"
          },
          "metadata": {}
        }
      ]
    },
    {
      "cell_type": "code",
      "source": [
        "img, label = test_dataset[500]\n",
        "plt.imshow(img[0], cmap='gray')\n",
        "print('Label:', label, ', Predicted:', predict_image(img, model))"
      ],
      "metadata": {
        "id": "dG2NI8lsERER",
        "colab": {
          "base_uri": "https://localhost:8080/",
          "height": 447
        },
        "outputId": "2068cc86-b598-4047-d472-9253ca927c39"
      },
      "execution_count": null,
      "outputs": [
        {
          "output_type": "stream",
          "name": "stdout",
          "text": [
            "Label: 3 , Predicted: 3\n"
          ]
        },
        {
          "output_type": "display_data",
          "data": {
            "text/plain": [
              "<Figure size 640x480 with 1 Axes>"
            ],
            "image/png": "[encoded data removed]"
          },
          "metadata": {}
        }
      ]
    },
    {
      "cell_type": "code",
      "source": [
        "img, label = test_dataset[725]\n",
        "plt.imshow(img[0], cmap='gray')\n",
        "print('Label:', label, ', Predicted:', predict_image(img, model))"
      ],
      "metadata": {
        "id": "bvVAsaZNEW8S",
        "colab": {
          "base_uri": "https://localhost:8080/",
          "height": 447
        },
        "outputId": "bb11b6f4-d32f-4a9d-98d4-b96413b992cf"
      },
      "execution_count": null,
      "outputs": [
        {
          "output_type": "stream",
          "name": "stdout",
          "text": [
            "Label: 1 , Predicted: 1\n"
          ]
        },
        {
          "output_type": "display_data",
          "data": {
            "text/plain": [
              "<Figure size 640x480 with 1 Axes>"
            ],
            "image/png": "[encoded data removed]"
          },
          "metadata": {}
        }
      ]
    },
    {
      "cell_type": "code",
      "source": [
        "img, label = test_dataset[193]\n",
        "plt.imshow(img[0], cmap='gray')\n",
        "print('Label:', label, ', Predicted:', predict_image(img, model))"
      ],
      "metadata": {
        "colab": {
          "base_uri": "https://localhost:8080/",
          "height": 447
        },
        "id": "W8lgsHBCaHPZ",
        "outputId": "d64deaf9-9a7b-46df-f210-717a9c1a7372"
      },
      "execution_count": null,
      "outputs": [
        {
          "output_type": "stream",
          "name": "stdout",
          "text": [
            "Label: 9 , Predicted: 4\n"
          ]
        },
        {
          "output_type": "display_data",
          "data": {
            "text/plain": [
              "<Figure size 640x480 with 1 Axes>"
            ],
            "image/png": "[encoded data removed]"
          },
          "metadata": {}
        }
      ]
    },
    {
      "cell_type": "markdown",
      "source": [
        "some of the test images are predicted correctly and some incorrectly.\n",
        "the accuracy can further be increased by more training"
      ],
      "metadata": {
        "id": "cXExK4NprIPq"
      }
    },
    {
      "cell_type": "markdown",
      "source": [],
      "metadata": {
        "id": "dj5DXjw0yjke"
      }
    },
    {
      "cell_type": "markdown",
      "source": [
        "##Saving and loading the model\n",
        "Since we've trained our model for a long time and achieved a resonable accuracy, it would be a good idea to save the weights and bias matrices to disk, so that we can reuse the model later and avoid retraining from scratch. Here's how you can save the model."
      ],
      "metadata": {
        "id": "nphvaf-iaSp0"
      }
    },
    {
      "cell_type": "code",
      "source": [
        "torch.save(model.state_dict(), 'mnist-logistic.pth') #will not save whole model but state dictionary containig weights and biases in a file named mist-logistic.pth\n",
        "model.state_dict() #view the values\n"
      ],
      "metadata": {
        "colab": {
          "base_uri": "https://localhost:8080/"
        },
        "id": "WsypHcTOaOfW",
        "outputId": "cebe0dc1-05ef-4803-8b8c-7f69e05ece85"
      },
      "execution_count": null,
      "outputs": [
        {
          "output_type": "execute_result",
          "data": {
            "text/plain": [
              "OrderedDict([('linear.weight',\n",
              "              tensor([[-0.0261, -0.0161, -0.0297,  ..., -0.0147,  0.0199,  0.0286],\n",
              "                      [ 0.0318, -0.0228, -0.0178,  ...,  0.0154,  0.0279, -0.0230],\n",
              "                      [ 0.0354, -0.0018, -0.0125,  ..., -0.0309,  0.0350,  0.0132],\n",
              "                      ...,\n",
              "                      [-0.0100, -0.0190, -0.0111,  ...,  0.0027, -0.0126,  0.0334],\n",
              "                      [-0.0224, -0.0092,  0.0312,  ...,  0.0032,  0.0293, -0.0247],\n",
              "                      [ 0.0249,  0.0238,  0.0112,  ..., -0.0114,  0.0070,  0.0190]])),\n",
              "             ('linear.bias',\n",
              "              tensor([-0.0448,  0.0827, -0.0368, -0.0010,  0.0271,  0.0424, -0.0026,  0.0514,\n",
              "                      -0.0494, -0.0190]))])"
            ]
          },
          "metadata": {},
          "execution_count": 33
        }
      ]
    }
  ],
  "metadata": {
    "colab": {
      "provenance": [],
      "authorship_tag": "ABX9TyPvZI19zi8t/d2pTbYqa4BY",
      "include_colab_link": true
    },
    "kernelspec": {
      "display_name": "Python 3",
      "name": "python3"
    },
    "language_info": {
      "name": "python"
    }
  },
  "nbformat": 4,
  "nbformat_minor": 0
}